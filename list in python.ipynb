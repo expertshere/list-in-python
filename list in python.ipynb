{
 "cells": [
  {
   "cell_type": "code",
   "execution_count": 10,
   "id": "fc8f88b9",
   "metadata": {},
   "outputs": [
    {
     "name": "stdout",
     "output_type": "stream",
     "text": [
      "rainy\n"
     ]
    }
   ],
   "source": [
    "# indexing\n",
    "weather=[\"sunny\",\"cloudy\",\"rainy\"]\n",
    "print(weather[2])\n"
   ]
  },
  {
   "cell_type": "code",
   "execution_count": 14,
   "id": "4e8de677",
   "metadata": {},
   "outputs": [
    {
     "name": "stdout",
     "output_type": "stream",
     "text": [
      "['apple', 'mango', 'banana', 'grapes']\n",
      "['apple', 'mango', 'banana', 'grapes', ['mango juice', 'apple juice']]\n"
     ]
    }
   ],
   "source": [
    "# append\n",
    "fruits=[\"apple\",\"mango\",\"banana\"]\n",
    "fruits.append(\"grapes\")\n",
    "print(fruits)\n",
    "juices=[\"mango juice\",\"apple juice\"]\n",
    "fruits.append(juices)\n",
    "print(fruits)\n"
   ]
  },
  {
   "cell_type": "code",
   "execution_count": 15,
   "id": "cf4751a2",
   "metadata": {},
   "outputs": [
    {
     "name": "stdout",
     "output_type": "stream",
     "text": [
      "[1, 7, 'good morning', 1, 45]\n"
     ]
    }
   ],
   "source": [
    "#extend\n",
    "lst=[1,7,\"good morning\"]\n",
    "lst.extend([1,45])\n",
    "print(lst)"
   ]
  },
  {
   "cell_type": "code",
   "execution_count": 16,
   "id": "7a6e6cf9",
   "metadata": {},
   "outputs": [
    {
     "name": "stdout",
     "output_type": "stream",
     "text": [
      "['tomato', 'potato', 'onion']\n"
     ]
    }
   ],
   "source": [
    "#insert\n",
    "vegetables=[\"potato\",\"onion\"]\n",
    "vegetables.insert(0,\"tomato\")\n",
    "print(vegetables)"
   ]
  },
  {
   "cell_type": "code",
   "execution_count": 17,
   "id": "5cb3402e",
   "metadata": {},
   "outputs": [
    {
     "name": "stdout",
     "output_type": "stream",
     "text": [
      "['tv', 'laptop', 'mobile']\n"
     ]
    }
   ],
   "source": [
    "#reverse\n",
    "appliances=[\"mobile\",\"laptop\",\"tv\"]\n",
    "appliances.reverse()\n",
    "print(appliances)"
   ]
  },
  {
   "cell_type": "code",
   "execution_count": 18,
   "id": "00b9d4df",
   "metadata": {},
   "outputs": [
    {
     "name": "stdout",
     "output_type": "stream",
     "text": [
      "[]\n"
     ]
    }
   ],
   "source": [
    "#clear\n",
    "numbers=[1,3,6,9]\n",
    "numbers.clear()\n",
    "print(numbers)"
   ]
  },
  {
   "cell_type": "code",
   "execution_count": 19,
   "id": "5990719d",
   "metadata": {},
   "outputs": [
    {
     "name": "stdout",
     "output_type": "stream",
     "text": [
      "['brown', 'blue']\n"
     ]
    }
   ],
   "source": [
    "#remove\n",
    "colour=[\"brown\",\"red\",\"blue\"]\n",
    "colour.remove(\"red\")\n",
    "print(colour)"
   ]
  },
  {
   "cell_type": "code",
   "execution_count": 20,
   "id": "e7789fa3",
   "metadata": {},
   "outputs": [
    {
     "name": "stdout",
     "output_type": "stream",
     "text": [
      "[3, 4, 8]\n"
     ]
    }
   ],
   "source": [
    "#pop\n",
    "lst=[3,4,6,8]\n",
    "lst.pop(2)\n",
    "print(lst)"
   ]
  },
  {
   "cell_type": "code",
   "execution_count": null,
   "id": "80573b45",
   "metadata": {},
   "outputs": [],
   "source": []
  }
 ],
 "metadata": {
  "kernelspec": {
   "display_name": "Python 3 (ipykernel)",
   "language": "python",
   "name": "python3"
  },
  "language_info": {
   "codemirror_mode": {
    "name": "ipython",
    "version": 3
   },
   "file_extension": ".py",
   "mimetype": "text/x-python",
   "name": "python",
   "nbconvert_exporter": "python",
   "pygments_lexer": "ipython3",
   "version": "3.11.5"
  }
 },
 "nbformat": 4,
 "nbformat_minor": 5
}
